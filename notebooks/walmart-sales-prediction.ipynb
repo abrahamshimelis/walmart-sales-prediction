{
 "cells": [
  {
   "cell_type": "markdown",
   "metadata": {},
   "source": [
    "# Walmart Sales Prediction"
   ]
  },
  {
   "cell_type": "markdown",
   "metadata": {},
   "source": [
    "## Importing Libraries"
   ]
  },
  {
   "cell_type": "code",
   "execution_count": 61,
   "metadata": {},
   "outputs": [],
   "source": [
    "import pandas as pd\n",
    "import numpy as np"
   ]
  },
  {
   "cell_type": "markdown",
   "metadata": {},
   "source": [
    "## Data Preparation"
   ]
  },
  {
   "cell_type": "markdown",
   "metadata": {},
   "source": [
    "### Process Macroeconomic Data"
   ]
  },
  {
   "cell_type": "code",
   "execution_count": 62,
   "metadata": {},
   "outputs": [
    {
     "name": "stdout",
     "output_type": "stream",
     "text": [
      "Year-Month                                                           0\n",
      "Monthly Nominal GDP Index (inMillion$)                               0\n",
      "Monthly Real GDP Index (inMillion$)                                  0\n",
      "CPI                                                                  0\n",
      "PartyInPower                                                         0\n",
      "unemployment rate                                                    0\n",
      "CommercialBankInterestRateonCreditCardPlans                          0\n",
      "Finance Rate on Personal Loans at Commercial Banks, 24 Month Loan    0\n",
      "Earnings or wages  in dollars per hour                               0\n",
      "AdvertisingExpenses (in Thousand Dollars)                            0\n",
      "Cotton Monthly Price - US cents per Pound(lbs)                       0\n",
      "Change(in%)                                                          0\n",
      "Average upland planted(million acres)                                0\n",
      "Average upland harvested(million acres)                              0\n",
      "yieldperharvested acre                                               0\n",
      "Production (in  480-lb netweright in million bales)                  0\n",
      "Mill use  (in  480-lb netweright in million bales)                   0\n",
      "Exports                                                              0\n",
      "dtype: int64\n"
     ]
    }
   ],
   "source": [
    "macro_economic_df = pd.read_excel('../data//macro_economic.xlsx')\n",
    "print(macro_economic_df.isnull().sum())"
   ]
  },
  {
   "cell_type": "code",
   "execution_count": 63,
   "metadata": {},
   "outputs": [
    {
     "name": "stdout",
     "output_type": "stream",
     "text": [
      "<class 'pandas.core.frame.DataFrame'>\n",
      "RangeIndex: 96 entries, 0 to 95\n",
      "Data columns (total 18 columns):\n",
      " #   Column                                                             Non-Null Count  Dtype  \n",
      "---  ------                                                             --------------  -----  \n",
      " 0   Year-Month                                                         96 non-null     object \n",
      " 1   Monthly Nominal GDP Index (inMillion$)                             96 non-null     float64\n",
      " 2   Monthly Real GDP Index (inMillion$)                                96 non-null     float64\n",
      " 3   CPI                                                                96 non-null     float64\n",
      " 4   PartyInPower                                                       96 non-null     object \n",
      " 5   unemployment rate                                                  96 non-null     float64\n",
      " 6   CommercialBankInterestRateonCreditCardPlans                        96 non-null     float64\n",
      " 7   Finance Rate on Personal Loans at Commercial Banks, 24 Month Loan  96 non-null     float64\n",
      " 8   Earnings or wages  in dollars per hour                             96 non-null     float64\n",
      " 9   AdvertisingExpenses (in Thousand Dollars)                          96 non-null     object \n",
      " 10  Cotton Monthly Price - US cents per Pound(lbs)                     96 non-null     float64\n",
      " 11  Change(in%)                                                        96 non-null     float64\n",
      " 12  Average upland planted(million acres)                              96 non-null     float64\n",
      " 13  Average upland harvested(million acres)                            96 non-null     float64\n",
      " 14  yieldperharvested acre                                             96 non-null     int64  \n",
      " 15  Production (in  480-lb netweright in million bales)                96 non-null     float64\n",
      " 16  Mill use  (in  480-lb netweright in million bales)                 96 non-null     float64\n",
      " 17  Exports                                                            96 non-null     float64\n",
      "dtypes: float64(14), int64(1), object(3)\n",
      "memory usage: 13.6+ KB\n"
     ]
    }
   ],
   "source": [
    "macro_economic_df.info()"
   ]
  },
  {
   "cell_type": "code",
   "execution_count": 64,
   "metadata": {},
   "outputs": [
    {
     "name": "stdout",
     "output_type": "stream",
     "text": [
      "    Year-Month  Monthly Nominal GDP Index (inMillion$)  \\\n",
      "2   2009 - Mar                            14340.701639   \n",
      "4   2009 - May                            14345.904809   \n",
      "5   2009 - Jun                            14348.530666   \n",
      "6   2009 - Jul                            14317.372922   \n",
      "7   2009 - Aug                            14424.284901   \n",
      "..         ...                                     ...   \n",
      "91  2016 - Aug                            18741.599947   \n",
      "92  2016 - Sep                            18840.309646   \n",
      "93  2016 - Oct                            18740.780023   \n",
      "94  2016 - Nov                            18960.461568   \n",
      "95  2016 - Dec                            19015.393408   \n",
      "\n",
      "    Monthly Real GDP Index (inMillion$)      CPI PartyInPower  \\\n",
      "2                          14351.786822  235.067    Democrats   \n",
      "4                          14368.123959  235.975    Democrats   \n",
      "5                          14346.820106  237.172    Democrats   \n",
      "6                          14345.676097  237.600    Democrats   \n",
      "7                          14435.812509  238.282    Democrats   \n",
      "..                                  ...      ...          ...   \n",
      "91                         16797.206610  264.160    Democrats   \n",
      "92                         16852.562745  264.602    Democrats   \n",
      "93                         16725.460098  264.738    Democrats   \n",
      "94                         16910.896330  265.203    Democrats   \n",
      "95                         16918.050624  265.421    Democrats   \n",
      "\n",
      "    unemployment rate  CommercialBankInterestRateonCreditCardPlans  \\\n",
      "2                 8.7                                        12.97   \n",
      "4                 9.4                                        13.32   \n",
      "5                 9.5                                        13.32   \n",
      "6                 9.5                                        13.32   \n",
      "7                 9.6                                        13.71   \n",
      "..                ...                                          ...   \n",
      "91                4.9                                        12.51   \n",
      "92                4.9                                        12.51   \n",
      "93                4.8                                        12.51   \n",
      "94                4.6                                        12.41   \n",
      "95                4.7                                        12.41   \n",
      "\n",
      "    Finance Rate on Personal Loans at Commercial Banks, 24 Month Loan  \\\n",
      "2                                               11.05                   \n",
      "4                                               11.25                   \n",
      "5                                               11.25                   \n",
      "6                                               11.25                   \n",
      "7                                               10.89                   \n",
      "..                                                ...                   \n",
      "91                                               9.64                   \n",
      "92                                               9.64                   \n",
      "93                                               9.64                   \n",
      "94                                               9.45                   \n",
      "95                                               9.45                   \n",
      "\n",
      "    Earnings or wages  in dollars per hour  \\\n",
      "2                                    22.22   \n",
      "4                                    22.04   \n",
      "5                                    21.96   \n",
      "6                                    22.00   \n",
      "7                                    22.16   \n",
      "..                                     ...   \n",
      "91                                   25.52   \n",
      "92                                   25.74   \n",
      "93                                   26.04   \n",
      "94                                   25.87   \n",
      "95                                   25.90   \n",
      "\n",
      "   AdvertisingExpenses (in Thousand Dollars)  \\\n",
      "2                                          ?   \n",
      "4                                          ?   \n",
      "5                                          ?   \n",
      "6                                          ?   \n",
      "7                                          ?   \n",
      "..                                       ...   \n",
      "91                                         ?   \n",
      "92                                         ?   \n",
      "93                                         ?   \n",
      "94                                         ?   \n",
      "95                                         ?   \n",
      "\n",
      "    Cotton Monthly Price - US cents per Pound(lbs)  Change(in%)  \\\n",
      "2                                            51.50        -6.72   \n",
      "4                                            61.95         9.11   \n",
      "5                                            61.39        -0.90   \n",
      "6                                            64.80         5.55   \n",
      "7                                            64.26        -0.83   \n",
      "..                                             ...          ...   \n",
      "91                                           80.26        -0.99   \n",
      "92                                           77.86        -2.99   \n",
      "93                                           78.52         0.85   \n",
      "94                                           78.92         0.51   \n",
      "95                                           79.50         0.73   \n",
      "\n",
      "    Average upland planted(million acres)  \\\n",
      "2                                   9.296   \n",
      "4                                   9.297   \n",
      "5                                   8.668   \n",
      "6                                   8.905   \n",
      "7                                   8.905   \n",
      "..                                    ...   \n",
      "91                                  9.824   \n",
      "92                                  9.950   \n",
      "93                                  9.950   \n",
      "94                                  9.950   \n",
      "95                                  9.950   \n",
      "\n",
      "    Average upland harvested(million acres)  yieldperharvested acre  \\\n",
      "2                                     7.559                     799   \n",
      "4                                     7.400                     803   \n",
      "5                                     7.760                     796   \n",
      "6                                     7.753                     796   \n",
      "7                                     7.619                     809   \n",
      "..                                      ...                     ...   \n",
      "91                                    9.340                     787   \n",
      "92                                    9.464                     790   \n",
      "93                                    9.464                     785   \n",
      "94                                    9.464                     791   \n",
      "95                                    9.464                     810   \n",
      "\n",
      "    Production (in  480-lb netweright in million bales)  \\\n",
      "2                                              12.589     \n",
      "4                                              12.384     \n",
      "5                                              12.876     \n",
      "6                                              12.863     \n",
      "7                                              12.840     \n",
      "..                                                ...     \n",
      "91                                             15.314     \n",
      "92                                             15.580     \n",
      "93                                             15.472     \n",
      "94                                             15.600     \n",
      "95                                             15.962     \n",
      "\n",
      "    Mill use  (in  480-lb netweright in million bales)  Exports  \n",
      "2                                               3.720    11.650  \n",
      "4                                               3.520    12.300  \n",
      "5                                               3.470    10.300  \n",
      "6                                               3.470     9.700  \n",
      "7                                               3.470     9.700  \n",
      "..                                                ...       ...  \n",
      "91                                              3.575    10.950  \n",
      "92                                              3.475    10.950  \n",
      "93                                              3.475    11.425  \n",
      "94                                              3.475    11.425  \n",
      "95                                              3.275    11.600  \n",
      "\n",
      "[85 rows x 18 columns]\n"
     ]
    }
   ],
   "source": [
    "print(macro_economic_df[pd.to_numeric(macro_economic_df['AdvertisingExpenses (in Thousand Dollars)'], errors='coerce').isnull()])"
   ]
  },
  {
   "cell_type": "code",
   "execution_count": 65,
   "metadata": {},
   "outputs": [
    {
     "name": "stdout",
     "output_type": "stream",
     "text": [
      "PartyInPower\n",
      "Democrats    96\n",
      "Name: count, dtype: int64\n"
     ]
    }
   ],
   "source": [
    "print(macro_economic_df['PartyInPower'].value_counts())"
   ]
  },
  {
   "cell_type": "code",
   "execution_count": 66,
   "metadata": {},
   "outputs": [],
   "source": [
    "macro_economic_df.drop(columns=['PartyInPower'], inplace=True)"
   ]
  },
  {
   "cell_type": "code",
   "execution_count": 67,
   "metadata": {},
   "outputs": [
    {
     "name": "stderr",
     "output_type": "stream",
     "text": [
      "C:\\Users\\abraham.shimelis\\AppData\\Local\\Temp\\ipykernel_11784\\943181558.py:1: FutureWarning: A value is trying to be set on a copy of a DataFrame or Series through chained assignment using an inplace method.\n",
      "The behavior will change in pandas 3.0. This inplace method will never work because the intermediate object on which we are setting values always behaves as a copy.\n",
      "\n",
      "For example, when doing 'df[col].method(value, inplace=True)', try using 'df.method({col: value}, inplace=True)' or df[col] = df[col].method(value) instead, to perform the operation inplace on the original object.\n",
      "\n",
      "\n",
      "  macro_economic_df['AdvertisingExpenses (in Thousand Dollars)'].replace('?', np.nan, inplace=True)\n",
      "C:\\Users\\abraham.shimelis\\AppData\\Local\\Temp\\ipykernel_11784\\943181558.py:1: FutureWarning: Downcasting behavior in `replace` is deprecated and will be removed in a future version. To retain the old behavior, explicitly call `result.infer_objects(copy=False)`. To opt-in to the future behavior, set `pd.set_option('future.no_silent_downcasting', True)`\n",
      "  macro_economic_df['AdvertisingExpenses (in Thousand Dollars)'].replace('?', np.nan, inplace=True)\n",
      "C:\\Users\\abraham.shimelis\\AppData\\Local\\Temp\\ipykernel_11784\\943181558.py:3: FutureWarning: A value is trying to be set on a copy of a DataFrame or Series through chained assignment using an inplace method.\n",
      "The behavior will change in pandas 3.0. This inplace method will never work because the intermediate object on which we are setting values always behaves as a copy.\n",
      "\n",
      "For example, when doing 'df[col].method(value, inplace=True)', try using 'df.method({col: value}, inplace=True)' or df[col] = df[col].method(value) instead, to perform the operation inplace on the original object.\n",
      "\n",
      "\n",
      "  macro_economic_df['AdvertisingExpenses (in Thousand Dollars)'].fillna(macro_economic_df['AdvertisingExpenses (in Thousand Dollars)'].median(), inplace=True)\n"
     ]
    }
   ],
   "source": [
    "macro_economic_df['AdvertisingExpenses (in Thousand Dollars)'].replace('?', np.nan, inplace=True)\n",
    "macro_economic_df['AdvertisingExpenses (in Thousand Dollars)'] = macro_economic_df['AdvertisingExpenses (in Thousand Dollars)'].astype(float)\n",
    "macro_economic_df['AdvertisingExpenses (in Thousand Dollars)'].fillna(macro_economic_df['AdvertisingExpenses (in Thousand Dollars)'].median(), inplace=True)\n",
    "macro_economic_df['Year'] = macro_economic_df['Year-Month'].str.split('-', expand=True)[0]\n",
    "macro_economic_df['Month'] = macro_economic_df['Year-Month'].str.split('-', expand=True)[1]\n",
    "macro_economic_df = macro_economic_df.drop(['Year-Month'], axis=1)"
   ]
  },
  {
   "cell_type": "markdown",
   "metadata": {},
   "source": [
    "### Process Weather Data"
   ]
  },
  {
   "cell_type": "code",
   "execution_count": 68,
   "metadata": {},
   "outputs": [],
   "source": [
    "def load_all_sheets():\n",
    "    path = '../data/WeatherData.xlsx'\n",
    "    all_sheets_df = pd.read_excel(path, sheet_name=None)\n",
    "\n",
    "    wth_df = pd.DataFrame()\n",
    "\n",
    "    for year, temp_df in all_sheets_df.items():\n",
    "        temp_df['Year-Month'] = year + \" - \" + temp_df['Month']\n",
    "        wth_df = pd.concat([wth_df, temp_df])\n",
    "\n",
    "    return wth_df\n",
    "\n",
    "weather_df = load_all_sheets()"
   ]
  },
  {
   "cell_type": "code",
   "execution_count": 69,
   "metadata": {},
   "outputs": [
    {
     "name": "stderr",
     "output_type": "stream",
     "text": [
      "C:\\Users\\abraham.shimelis\\AppData\\Local\\Temp\\ipykernel_11784\\1668807780.py:1: FutureWarning: Downcasting behavior in `replace` is deprecated and will be removed in a future version. To retain the old behavior, explicitly call `result.infer_objects(copy=False)`. To opt-in to the future behavior, set `pd.set_option('future.no_silent_downcasting', True)`\n",
      "  weather_df.replace('-', np.nan, inplace=True)\n",
      "C:\\Users\\abraham.shimelis\\AppData\\Local\\Temp\\ipykernel_11784\\1668807780.py:2: FutureWarning: A value is trying to be set on a copy of a DataFrame or Series through chained assignment using an inplace method.\n",
      "The behavior will change in pandas 3.0. This inplace method will never work because the intermediate object on which we are setting values always behaves as a copy.\n",
      "\n",
      "For example, when doing 'df[col].method(value, inplace=True)', try using 'df.method({col: value}, inplace=True)' or df[col] = df[col].method(value) instead, to perform the operation inplace on the original object.\n",
      "\n",
      "\n",
      "  weather_df['Precip.\\xa0(mm) sum'].replace('T', 0, inplace=True)\n",
      "C:\\Users\\abraham.shimelis\\AppData\\Local\\Temp\\ipykernel_11784\\1668807780.py:2: FutureWarning: Downcasting behavior in `replace` is deprecated and will be removed in a future version. To retain the old behavior, explicitly call `result.infer_objects(copy=False)`. To opt-in to the future behavior, set `pd.set_option('future.no_silent_downcasting', True)`\n",
      "  weather_df['Precip.\\xa0(mm) sum'].replace('T', 0, inplace=True)\n",
      "C:\\Users\\abraham.shimelis\\AppData\\Local\\Temp\\ipykernel_11784\\1668807780.py:3: FutureWarning: DataFrame.fillna with 'method' is deprecated and will raise in a future version. Use obj.ffill() or obj.bfill() instead.\n",
      "  weather_df.fillna(method='bfill', inplace=True)\n"
     ]
    }
   ],
   "source": [
    "weather_df.replace('-', np.nan, inplace=True)\n",
    "weather_df['Precip.\\xa0(mm) sum'].replace('T', 0, inplace=True)\n",
    "weather_df.fillna(method='bfill', inplace=True)"
   ]
  },
  {
   "cell_type": "code",
   "execution_count": 70,
   "metadata": {},
   "outputs": [],
   "source": [
    "weather_df['Wind\\xa0(km/h) low'] = weather_df['Wind\\xa0(km/h) low'].astype(float)\n",
    "weather_df['Wind\\xa0(km/h) high'] = weather_df['Wind\\xa0(km/h) high'].astype(float)\n",
    "weather_df['Wind\\xa0(km/h) avg'] = weather_df['Wind\\xa0(km/h) avg'].astype(float)\n",
    "weather_df['Precip.\\xa0(mm) sum'] = weather_df['Precip.\\xa0(mm) sum'].astype(float)"
   ]
  },
  {
   "cell_type": "code",
   "execution_count": 71,
   "metadata": {},
   "outputs": [],
   "source": [
    "weather_df.to_csv('../data/clean_data/weather_df.csv')"
   ]
  },
  {
   "cell_type": "markdown",
   "metadata": {},
   "source": [
    "### Process Events and Holidays Data"
   ]
  },
  {
   "cell_type": "code",
   "execution_count": 72,
   "metadata": {},
   "outputs": [
    {
     "name": "stdout",
     "output_type": "stream",
     "text": [
      "<class 'pandas.core.frame.DataFrame'>\n",
      "RangeIndex: 150 entries, 0 to 149\n",
      "Data columns (total 4 columns):\n",
      " #   Column       Non-Null Count  Dtype         \n",
      "---  ------       --------------  -----         \n",
      " 0   Year         150 non-null    int64         \n",
      " 1   MonthDate    150 non-null    datetime64[ns]\n",
      " 2   Event        150 non-null    object        \n",
      " 3   DayCategory  150 non-null    object        \n",
      "dtypes: datetime64[ns](1), int64(1), object(2)\n",
      "memory usage: 4.8+ KB\n"
     ]
    }
   ],
   "source": [
    "events_holidays_df = pd.read_excel('../data/Events_HolidaysData.xlsx')\n",
    "events_holidays_df.info()"
   ]
  },
  {
   "cell_type": "code",
   "execution_count": 73,
   "metadata": {},
   "outputs": [],
   "source": [
    "events_holidays_df.rename(columns={'MonthDate': 'Month'}, inplace=True)\n",
    "events_holidays_df['Month'] = events_holidays_df['Month'].astype(str)\n",
    "events_holidays_df['Month'] = events_holidays_df['Month'].str.split('-', expand=True)[1]"
   ]
  },
  {
   "cell_type": "code",
   "execution_count": 74,
   "metadata": {},
   "outputs": [
    {
     "name": "stdout",
     "output_type": "stream",
     "text": [
      "<class 'pandas.core.frame.DataFrame'>\n",
      "RangeIndex: 150 entries, 0 to 149\n",
      "Data columns (total 4 columns):\n",
      " #   Column       Non-Null Count  Dtype \n",
      "---  ------       --------------  ----- \n",
      " 0   Year         150 non-null    int64 \n",
      " 1   Month        150 non-null    object\n",
      " 2   Event        150 non-null    object\n",
      " 3   DayCategory  150 non-null    object\n",
      "dtypes: int64(1), object(3)\n",
      "memory usage: 4.8+ KB\n"
     ]
    }
   ],
   "source": [
    "events_holidays_df.info()"
   ]
  },
  {
   "cell_type": "code",
   "execution_count": 75,
   "metadata": {},
   "outputs": [],
   "source": [
    "month_dict = {\n",
    "        '01': 'Jan', '02': 'Feb', '03': 'Mar', '04': 'Apr', '05': 'May',\n",
    "        '06': 'Jun', '07': 'Jul', '08': 'Aug', '09': 'Sep', '10': 'Oct',\n",
    "        '11': 'Nov', '12': 'Dec'\n",
    "    }\n",
    "\n",
    "events_holidays_df.replace({'Month': month_dict}, inplace=True)"
   ]
  },
  {
   "cell_type": "code",
   "execution_count": 76,
   "metadata": {},
   "outputs": [],
   "source": [
    "events_holidays_df['HolidayCount'] = events_holidays_df.groupby(['Year', 'Month'])['Event'].transform('count')\n",
    "events_holidays_df = events_holidays_df.drop(['Event', 'DayCategory'], axis=1)\n",
    "events_holidays_df = events_holidays_df.drop_duplicates()"
   ]
  },
  {
   "cell_type": "code",
   "execution_count": 77,
   "metadata": {},
   "outputs": [],
   "source": [
    "events_holidays_df.to_csv('../data/clean_data/events_holidays.csv')"
   ]
  },
  {
   "cell_type": "code",
   "execution_count": 78,
   "metadata": {},
   "outputs": [
    {
     "name": "stdout",
     "output_type": "stream",
     "text": [
      "<class 'pandas.core.frame.DataFrame'>\n",
      "Index: 81 entries, 0 to 146\n",
      "Data columns (total 3 columns):\n",
      " #   Column        Non-Null Count  Dtype \n",
      "---  ------        --------------  ----- \n",
      " 0   Year          81 non-null     int64 \n",
      " 1   Month         81 non-null     object\n",
      " 2   HolidayCount  81 non-null     int64 \n",
      "dtypes: int64(2), object(1)\n",
      "memory usage: 2.5+ KB\n"
     ]
    }
   ],
   "source": [
    "events_holidays_df.info()"
   ]
  },
  {
   "cell_type": "markdown",
   "metadata": {},
   "source": [
    "### Process Train Data"
   ]
  },
  {
   "cell_type": "code",
   "execution_count": 79,
   "metadata": {},
   "outputs": [],
   "source": [
    "train_df = pd.read_csv('../data/train.csv')"
   ]
  },
  {
   "cell_type": "code",
   "execution_count": 80,
   "metadata": {},
   "outputs": [],
   "source": [
    "month_dict2 = {\n",
    "        '1': 'Jan', '2': 'Feb', '3': 'Mar', '4': 'Apr', '5': 'May',\n",
    "        '6': 'Jun', '7': 'Jul', '8': 'Aug', '9': 'Sep', '10': 'Oct',\n",
    "        '11': 'Nov', '12': 'Dec'\n",
    "    }\n",
    "\n",
    "train_df['Month'] = train_df['Month'].astype(str)\n",
    "\n",
    "train_df.replace({'Month': month_dict2}, inplace=True)"
   ]
  },
  {
   "cell_type": "code",
   "execution_count": 81,
   "metadata": {},
   "outputs": [
    {
     "name": "stdout",
     "output_type": "stream",
     "text": [
      "<class 'pandas.core.frame.DataFrame'>\n",
      "RangeIndex: 180 entries, 0 to 179\n",
      "Data columns (total 4 columns):\n",
      " #   Column                     Non-Null Count  Dtype  \n",
      "---  ------                     --------------  -----  \n",
      " 0   Year                       180 non-null    int64  \n",
      " 1   Month                      180 non-null    object \n",
      " 2   ProductCategory            180 non-null    object \n",
      " 3   Sales(In ThousandDollars)  170 non-null    float64\n",
      "dtypes: float64(1), int64(1), object(2)\n",
      "memory usage: 5.8+ KB\n"
     ]
    }
   ],
   "source": [
    "train_df.info()"
   ]
  },
  {
   "cell_type": "code",
   "execution_count": 82,
   "metadata": {},
   "outputs": [
    {
     "name": "stdout",
     "output_type": "stream",
     "text": [
      "Year                          0\n",
      "Month                         0\n",
      "ProductCategory               0\n",
      "Sales(In ThousandDollars)    10\n",
      "dtype: int64\n"
     ]
    }
   ],
   "source": [
    "print(train_df.isnull().sum())"
   ]
  },
  {
   "cell_type": "code",
   "execution_count": 83,
   "metadata": {},
   "outputs": [
    {
     "name": "stderr",
     "output_type": "stream",
     "text": [
      "C:\\Users\\abraham.shimelis\\AppData\\Local\\Temp\\ipykernel_11784\\3807834153.py:1: FutureWarning: DataFrame.fillna with 'method' is deprecated and will raise in a future version. Use obj.ffill() or obj.bfill() instead.\n",
      "  train_df.fillna(method='ffill', inplace=True)\n"
     ]
    }
   ],
   "source": [
    "train_df.fillna(method='ffill', inplace=True)"
   ]
  },
  {
   "cell_type": "markdown",
   "metadata": {},
   "source": [
    "### Merge Data"
   ]
  },
  {
   "cell_type": "code",
   "execution_count": 84,
   "metadata": {},
   "outputs": [
    {
     "name": "stdout",
     "output_type": "stream",
     "text": [
      "<class 'pandas.core.frame.DataFrame'>\n",
      "RangeIndex: 96 entries, 0 to 95\n",
      "Data columns (total 18 columns):\n",
      " #   Column                                                             Non-Null Count  Dtype  \n",
      "---  ------                                                             --------------  -----  \n",
      " 0   Monthly Nominal GDP Index (inMillion$)                             96 non-null     float64\n",
      " 1   Monthly Real GDP Index (inMillion$)                                96 non-null     float64\n",
      " 2   CPI                                                                96 non-null     float64\n",
      " 3   unemployment rate                                                  96 non-null     float64\n",
      " 4   CommercialBankInterestRateonCreditCardPlans                        96 non-null     float64\n",
      " 5   Finance Rate on Personal Loans at Commercial Banks, 24 Month Loan  96 non-null     float64\n",
      " 6   Earnings or wages  in dollars per hour                             96 non-null     float64\n",
      " 7   AdvertisingExpenses (in Thousand Dollars)                          96 non-null     float64\n",
      " 8   Cotton Monthly Price - US cents per Pound(lbs)                     96 non-null     float64\n",
      " 9   Change(in%)                                                        96 non-null     float64\n",
      " 10  Average upland planted(million acres)                              96 non-null     float64\n",
      " 11  Average upland harvested(million acres)                            96 non-null     float64\n",
      " 12  yieldperharvested acre                                             96 non-null     int64  \n",
      " 13  Production (in  480-lb netweright in million bales)                96 non-null     float64\n",
      " 14  Mill use  (in  480-lb netweright in million bales)                 96 non-null     float64\n",
      " 15  Exports                                                            96 non-null     float64\n",
      " 16  Year                                                               96 non-null     object \n",
      " 17  Month                                                              96 non-null     object \n",
      "dtypes: float64(15), int64(1), object(2)\n",
      "memory usage: 13.6+ KB\n"
     ]
    }
   ],
   "source": [
    "macro_economic_df.info()"
   ]
  },
  {
   "cell_type": "code",
   "execution_count": 85,
   "metadata": {},
   "outputs": [
    {
     "name": "stdout",
     "output_type": "stream",
     "text": [
      "<class 'pandas.core.frame.DataFrame'>\n",
      "Index: 2921 entries, 0 to 365\n",
      "Data columns (total 24 columns):\n",
      " #   Column                       Non-Null Count  Dtype  \n",
      "---  ------                       --------------  -----  \n",
      " 0   Year                         2921 non-null   int64  \n",
      " 1   Month                        2921 non-null   object \n",
      " 2   Day                          2921 non-null   int64  \n",
      " 3   Temp high (°C)               2921 non-null   float64\n",
      " 4   Temp avg (°C)                2921 non-null   float64\n",
      " 5   Temp low (°C)                2921 non-null   float64\n",
      " 6   Dew Point high (°C)          2921 non-null   float64\n",
      " 7   Dew Point avg (°C)           2921 non-null   float64\n",
      " 8   Dew Point low (°C)           2921 non-null   float64\n",
      " 9   Humidity (%) high            2921 non-null   float64\n",
      " 10  Humidity (%) avg             2921 non-null   float64\n",
      " 11  Humidity (%) low             2921 non-null   float64\n",
      " 12  Sea Level Press. (hPa) high  2921 non-null   float64\n",
      " 13  Sea Level Press. (hPa) avg   2921 non-null   float64\n",
      " 14  Sea Level Press. (hPa) low   2921 non-null   float64\n",
      " 15  Visibility (km) high         2921 non-null   float64\n",
      " 16  Visibility (km) avg          2921 non-null   float64\n",
      " 17  Visibility (km) low          2921 non-null   float64\n",
      " 18  Wind (km/h) low              2921 non-null   float64\n",
      " 19  Wind (km/h) avg              2921 non-null   float64\n",
      " 20  Wind (km/h) high             2921 non-null   float64\n",
      " 21  Precip. (mm) sum             2921 non-null   float64\n",
      " 22  WeatherEvent                 2920 non-null   object \n",
      " 23  Year-Month                   2921 non-null   object \n",
      "dtypes: float64(19), int64(2), object(3)\n",
      "memory usage: 570.5+ KB\n"
     ]
    }
   ],
   "source": [
    "weather_df.info()"
   ]
  },
  {
   "cell_type": "code",
   "execution_count": 86,
   "metadata": {},
   "outputs": [
    {
     "name": "stdout",
     "output_type": "stream",
     "text": [
      "<class 'pandas.core.frame.DataFrame'>\n",
      "Index: 81 entries, 0 to 146\n",
      "Data columns (total 3 columns):\n",
      " #   Column        Non-Null Count  Dtype \n",
      "---  ------        --------------  ----- \n",
      " 0   Year          81 non-null     int64 \n",
      " 1   Month         81 non-null     object\n",
      " 2   HolidayCount  81 non-null     int64 \n",
      "dtypes: int64(2), object(1)\n",
      "memory usage: 2.5+ KB\n"
     ]
    }
   ],
   "source": [
    "events_holidays_df.info()"
   ]
  },
  {
   "cell_type": "code",
   "execution_count": 87,
   "metadata": {},
   "outputs": [],
   "source": [
    "macro_economic_df['Year'] = macro_economic_df['Year'].astype(str)\n",
    "macro_economic_df['Month'] = macro_economic_df['Month'].astype(str)\n",
    "weather_df['Year'] = weather_df['Year'].astype(str)\n",
    "weather_df['Month'] = weather_df['Month'].astype(str)\n",
    "events_holidays_df['Year'] = events_holidays_df['Year'].astype(str)\n",
    "events_holidays_df['Month'] = events_holidays_df['Month'].astype(str)\n",
    "train_df['Year'] = train_df['Year'].astype(str)\n",
    "train_df['Month'] = train_df['Month'].astype(str)"
   ]
  },
  {
   "cell_type": "code",
   "execution_count": 88,
   "metadata": {},
   "outputs": [],
   "source": [
    "merged_df1 = pd.merge(macro_economic_df, events_holidays_df, on=['Year', 'Month'], how='outer')\n",
    "merged_df2 = pd.merge(merged_df1, weather_df, on=['Year', 'Month'], how='outer')\n",
    "merged_df = pd.merge(merged_df2, train_df, on=['Year', 'Month'], how='outer')"
   ]
  },
  {
   "cell_type": "code",
   "execution_count": 89,
   "metadata": {},
   "outputs": [
    {
     "name": "stderr",
     "output_type": "stream",
     "text": [
      "C:\\Users\\abraham.shimelis\\AppData\\Local\\Temp\\ipykernel_11784\\2415298477.py:1: FutureWarning: DataFrame.fillna with 'method' is deprecated and will raise in a future version. Use obj.ffill() or obj.bfill() instead.\n",
      "  merged_df.fillna(method='bfill', inplace=True)\n"
     ]
    }
   ],
   "source": [
    "merged_df.fillna(method='bfill', inplace=True)"
   ]
  },
  {
   "cell_type": "code",
   "execution_count": 90,
   "metadata": {},
   "outputs": [
    {
     "name": "stderr",
     "output_type": "stream",
     "text": [
      "C:\\Users\\abraham.shimelis\\AppData\\Local\\Temp\\ipykernel_11784\\1302505969.py:1: FutureWarning: DataFrame.fillna with 'method' is deprecated and will raise in a future version. Use obj.ffill() or obj.bfill() instead.\n",
      "  merged_df.fillna(method='ffill', inplace=True)\n"
     ]
    }
   ],
   "source": [
    "merged_df.fillna(method='ffill', inplace=True)"
   ]
  },
  {
   "cell_type": "code",
   "execution_count": 91,
   "metadata": {},
   "outputs": [
    {
     "name": "stdout",
     "output_type": "stream",
     "text": [
      "Monthly Nominal GDP Index (inMillion$)                               0\n",
      "Monthly Real GDP Index (inMillion$)                                  0\n",
      "CPI                                                                  0\n",
      "unemployment rate                                                    0\n",
      "CommercialBankInterestRateonCreditCardPlans                          0\n",
      "Finance Rate on Personal Loans at Commercial Banks, 24 Month Loan    0\n",
      "Earnings or wages  in dollars per hour                               0\n",
      "AdvertisingExpenses (in Thousand Dollars)                            0\n",
      "Cotton Monthly Price - US cents per Pound(lbs)                       0\n",
      "Change(in%)                                                          0\n",
      "Average upland planted(million acres)                                0\n",
      "Average upland harvested(million acres)                              0\n",
      "yieldperharvested acre                                               0\n",
      "Production (in  480-lb netweright in million bales)                  0\n",
      "Mill use  (in  480-lb netweright in million bales)                   0\n",
      "Exports                                                              0\n",
      "Year                                                                 0\n",
      "Month                                                                0\n",
      "HolidayCount                                                         0\n",
      "Day                                                                  0\n",
      "Temp high (°C)                                                       0\n",
      "Temp avg (°C)                                                        0\n",
      "Temp low (°C)                                                        0\n",
      "Dew Point high (°C)                                                  0\n",
      "Dew Point avg (°C)                                                   0\n",
      "Dew Point low (°C)                                                   0\n",
      "Humidity (%) high                                                    0\n",
      "Humidity (%) avg                                                     0\n",
      "Humidity (%) low                                                     0\n",
      "Sea Level Press. (hPa) high                                          0\n",
      "Sea Level Press. (hPa) avg                                           0\n",
      "Sea Level Press. (hPa) low                                           0\n",
      "Visibility (km) high                                                 0\n",
      "Visibility (km) avg                                                  0\n",
      "Visibility (km) low                                                  0\n",
      "Wind (km/h) low                                                      0\n",
      "Wind (km/h) avg                                                      0\n",
      "Wind (km/h) high                                                     0\n",
      "Precip. (mm) sum                                                     0\n",
      "WeatherEvent                                                         0\n",
      "Year-Month                                                           0\n",
      "ProductCategory                                                      0\n",
      "Sales(In ThousandDollars)                                            0\n",
      "dtype: int64\n"
     ]
    }
   ],
   "source": [
    "print(merged_df.isnull().sum())"
   ]
  },
  {
   "cell_type": "code",
   "execution_count": 92,
   "metadata": {},
   "outputs": [],
   "source": [
    "merged_df.to_csv('../data/clean_data/merged_df.csv')"
   ]
  }
 ],
 "metadata": {
  "kernelspec": {
   "display_name": "walmart-venv",
   "language": "python",
   "name": "python3"
  },
  "language_info": {
   "codemirror_mode": {
    "name": "ipython",
    "version": 3
   },
   "file_extension": ".py",
   "mimetype": "text/x-python",
   "name": "python",
   "nbconvert_exporter": "python",
   "pygments_lexer": "ipython3",
   "version": "3.10.14"
  }
 },
 "nbformat": 4,
 "nbformat_minor": 2
}
